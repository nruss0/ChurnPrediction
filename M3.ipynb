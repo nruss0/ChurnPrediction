{
  "nbformat": 4,
  "nbformat_minor": 0,
  "metadata": {
    "kernelspec": {
      "display_name": "Python 3",
      "language": "python",
      "name": "python3"
    },
    "language_info": {
      "codemirror_mode": {
        "name": "ipython",
        "version": 3
      },
      "file_extension": ".py",
      "mimetype": "text/x-python",
      "name": "python",
      "nbconvert_exporter": "python",
      "pygments_lexer": "ipython3",
      "version": "3.8.3"
    },
    "colab": {
      "name": "Milestone 2 and 3.ipynb",
      "provenance": []
    }
  },
  "cells": [
    {
      "cell_type": "markdown",
      "metadata": {
        "id": "A9bbEwWc-Yn6"
      },
      "source": [
        "<br>\n",
        "<br> <center> <font size=\"7\" color=Orange>Milestone 3: Machine Learning</font> </center> <br/>"
      ]
    },
    {
      "cell_type": "markdown",
      "metadata": {
        "id": "BR0Eja3x-Yn6"
      },
      "source": [
        "# Since it's a Classification Problem\n",
        "# The following  Classification algorithms are used\n",
        "- Support Vector Machine\n",
        "- Decision Tree Classification \n",
        "- Ridge Classification \n",
        "- SGD Classification\n",
        "- KNEIGHBORSCLASSIFIER \n",
        "- Rabdom Forest Classification \n",
        "- Logistic Regression\n",
        "\n",
        "## The classification reports, training, and testing accuracy for each algorithm is drawn\n",
        "## Testing accuracy is used to compare each algorithm"
      ]
    },
    {
      "cell_type": "markdown",
      "metadata": {
        "id": "kAy93OM5-Yn7"
      },
      "source": [
        "# Libraries and Dataset Reading"
      ]
    },
    {
      "cell_type": "code",
      "metadata": {
        "id": "VuytFCFf-Yn7",
        "outputId": "1176bfe5-965b-4536-f062-b6aa08a3e7b1"
      },
      "source": [
        "import pandas as pd\n",
        "from sklearn.svm import SVC\n",
        "from sklearn.preprocessing import LabelEncoder\n",
        "from sklearn.model_selection import train_test_split\n",
        "from sklearn.model_selection import GridSearchCV\n",
        "from sklearn.metrics import classification_report\n",
        "from warnings import filterwarnings\n",
        "filterwarnings('ignore')\n",
        "from sklearn.linear_model import LogisticRegression\n",
        "from sklearn.tree import DecisionTreeClassifier\n",
        "from sklearn.ensemble import RandomForestClassifier\n",
        "print(\"Reading the Dataset\")\n",
        "churn_data = pd.read_csv('final_selected_df.csv')\n",
        "print()\n",
        "print(\"Shape of Dataset is: \",churn_data.shape)"
      ],
      "execution_count": null,
      "outputs": [
        {
          "output_type": "stream",
          "text": [
            "Reading the Dataset\n",
            "\n",
            "Shape of Dataset is:  (4250, 9)\n"
          ],
          "name": "stdout"
        }
      ]
    },
    {
      "cell_type": "markdown",
      "metadata": {
        "id": "bhRt1qJU-Yn7"
      },
      "source": [
        "# Checking for Null Values"
      ]
    },
    {
      "cell_type": "code",
      "metadata": {
        "id": "LUL8oqqA-Yn7",
        "outputId": "9b2b9483-efb8-486e-d168-7a2ac86a1549"
      },
      "source": [
        "print(\"Null values per column are:\")\n",
        "print(churn_data.isnull().sum(axis = 0))\n",
        "print(\"Filling out the Null values\")\n",
        "print(\"Spliting the Data into Input and output for the Model\")"
      ],
      "execution_count": null,
      "outputs": [
        {
          "output_type": "stream",
          "text": [
            "Null values per column are:\n",
            "number_vmail_messages            0\n",
            "total_day_minutes                0\n",
            "total_day_charge                 0\n",
            "total_eve_minutes                0\n",
            "total_eve_charge                 0\n",
            "number_customer_service_calls    0\n",
            "international_plan               0\n",
            "voice_mail_plan                  0\n",
            "churn                            0\n",
            "dtype: int64\n",
            "Filling out the Null values\n",
            "Spliting the Data into Input and output for the Model\n"
          ],
          "name": "stdout"
        }
      ]
    },
    {
      "cell_type": "markdown",
      "metadata": {
        "id": "msZl3Py7-Yn7"
      },
      "source": [
        "# Train Test Splitting the dataset"
      ]
    },
    {
      "cell_type": "code",
      "metadata": {
        "id": "LdyZCzcW-Yn7"
      },
      "source": [
        "X=churn_data.loc[:, churn_data.columns != 'churn']"
      ],
      "execution_count": null,
      "outputs": []
    },
    {
      "cell_type": "code",
      "metadata": {
        "id": "7ItWx7OO-Yn7"
      },
      "source": [
        "y=churn_data['churn']"
      ],
      "execution_count": null,
      "outputs": []
    },
    {
      "cell_type": "markdown",
      "metadata": {
        "id": "ggWz35a7-Yn7"
      },
      "source": [
        "# Support Vector Machine"
      ]
    },
    {
      "cell_type": "code",
      "metadata": {
        "id": "CG7rtTe1-Yn7",
        "outputId": "45ea6c59-bd28-4841-bc0a-27d87ff8c7f8"
      },
      "source": [
        "X_train, X_test, y_train, y_test = train_test_split(X, y, test_size=0.4, random_state=0)\n",
        "print(\"A support vector machine model to predict whether a customer churn or not\")\n",
        "clf = SVC()\n",
        "clf.fit(X_train, y_train.values.ravel())\n",
        "y_true, y_pred = y_test, clf.predict(X_test)\n",
        "print(\"\\tModel\\t\\t\\tTrain Acc\\tTest Acc\")\n",
        "print(\"Support Vector Machine\\t\\t  \",int(clf.score(X_train,y_train)*100),\"% \\t  \", int(100*clf.score(X_test,y_test)),\"% \\t  \")\n",
        "TrueResultslat=y_test\n",
        "PredictedResultslat=clf.predict(X_test)\n",
        "data = {'y_Actual':    y_test,\n",
        "    'y_Predicted': PredictedResultslat\n",
        "    }\n",
        "df = pd.DataFrame(data, columns=['y_Actual','y_Predicted'])\n",
        "confusion_matrixf = pd.crosstab(df['y_Actual'], df['y_Predicted'], rownames=['Actual'], colnames=['Predicted'])\n",
        "\n",
        "sns.heatmap(confusion_matrixf, annot=True)\n",
        "plt.show()\n",
        "print((\"Confusion Matrix: SVM \"))\n",
        "print(confusion_matrix(y_test,PredictedResultslat))\n",
        "print((\"Classification Report:SVM \"))\n",
        "print(classification_report(y_test,PredictedResultslat))\n",
        "LR_accuracy = metrics.accuracy_score(y_test, PredictedResultslat)\n",
        "print((\"Support Vector Machine Classifier Accuracy:\" ,LR_accuracy*100))\n",
        "Accuracy_SVM=LR_accuracy*100"
      ],
      "execution_count": null,
      "outputs": [
        {
          "output_type": "stream",
          "text": [
            "A support vector machine model to predict whether a customer churn or not\n",
            "\tModel\t\t\tTrain Acc\tTest Acc\n",
            "Support Vector Machine\t\t   87 % \t   86 % \t  \n"
          ],
          "name": "stdout"
        },
        {
          "output_type": "display_data",
          "data": {
            "image/png": "[encoded data removed]",
            "text/plain": [
              "<Figure size 504x360 with 2 Axes>"
            ]
          },
          "metadata": {
            "tags": [],
            "needs_background": "light"
          }
        },
        {
          "output_type": "stream",
          "text": [
            "Confusion Matrix: SVM \n",
            "[[1461    2]\n",
            " [ 220   17]]\n",
            "Classification Report:SVM \n",
            "              precision    recall  f1-score   support\n",
            "\n",
            "           0       0.87      1.00      0.93      1463\n",
            "           1       0.89      0.07      0.13       237\n",
            "\n",
            "    accuracy                           0.87      1700\n",
            "   macro avg       0.88      0.54      0.53      1700\n",
            "weighted avg       0.87      0.87      0.82      1700\n",
            "\n",
            "('Support Vector Machine Classifier Accuracy:', 86.94117647058823)\n"
          ],
          "name": "stdout"
        }
      ]
    },
    {
      "cell_type": "markdown",
      "metadata": {
        "id": "twxkKs0j-Yn7"
      },
      "source": [
        "# Logistic Regression"
      ]
    },
    {
      "cell_type": "code",
      "metadata": {
        "scrolled": true,
        "id": "N8ZGCGQe-Yn7",
        "outputId": "a1686906-5d85-4994-83d0-60326997c235"
      },
      "source": [
        "print(\"A Logistic Regression model to predict whether a customer churn or not\")\n",
        "clf = LogisticRegression()\n",
        "clf.fit(X_train, y_train.values.ravel())\n",
        "y_true, y_pred = y_test, clf.predict(X_test)\n",
        "print(\"\\tModel\\t\\t\\tTrain Acc\\tTest Acc\")\n",
        "print(\"Logistic Regression\\t\\t  \",int(clf.score(X_train,y_train)*100),\"% \\t  \", int(100*clf.score(X_test,y_test)),\"% \\t  \")\n",
        "TrueResultslat=y_test\n",
        "PredictedResultslat=clf.predict(X_test)\n",
        "data = {'y_Actual':    y_test,\n",
        "    'y_Predicted': PredictedResultslat\n",
        "    }\n",
        "df = pd.DataFrame(data, columns=['y_Actual','y_Predicted'])\n",
        "confusion_matrixf = pd.crosstab(df['y_Actual'], df['y_Predicted'], rownames=['Actual'], colnames=['Predicted'])\n",
        "\n",
        "sns.heatmap(confusion_matrixf, annot=True)\n",
        "plt.show()\n",
        "print((\"Confusion Matrix: Logistic Regression \"))\n",
        "print(confusion_matrix(y_test,PredictedResultslat))\n",
        "print((\"Classification Report:Logistic Regression \"))\n",
        "print(classification_report(y_test,PredictedResultslat))\n",
        "LR_accuracy = metrics.accuracy_score(y_test, PredictedResultslat)\n",
        "print((\"Logistic Regression Classifier Accuracy:\" ,LR_accuracy*100))\n",
        "Accuracy_Logistic=LR_accuracy*100"
      ],
      "execution_count": null,
      "outputs": [
        {
          "output_type": "stream",
          "text": [
            "A Logistic Regression model to predict whether a customer churn or not\n",
            "\tModel\t\t\tTrain Acc\tTest Acc\n",
            "Logistic Regression\t\t   86 % \t   86 % \t  \n"
          ],
          "name": "stdout"
        },
        {
          "output_type": "display_data",
          "data": {
            "image/png": "[encoded data removed]",
            "text/plain": [
              "<Figure size 504x360 with 2 Axes>"
            ]
          },
          "metadata": {
            "tags": [],
            "needs_background": "light"
          }
        },
        {
          "output_type": "stream",
          "text": [
            "Confusion Matrix: Logistic Regression \n",
            "[[1437   26]\n",
            " [ 197   40]]\n",
            "Classification Report:Logistic Regression \n",
            "              precision    recall  f1-score   support\n",
            "\n",
            "           0       0.88      0.98      0.93      1463\n",
            "           1       0.61      0.17      0.26       237\n",
            "\n",
            "    accuracy                           0.87      1700\n",
            "   macro avg       0.74      0.58      0.60      1700\n",
            "weighted avg       0.84      0.87      0.84      1700\n",
            "\n",
            "('Logistic Regression Classifier Accuracy:', 86.88235294117646)\n"
          ],
          "name": "stdout"
        }
      ]
    },
    {
      "cell_type": "markdown",
      "metadata": {
        "id": "Wnsmz_0L-Yn7"
      },
      "source": [
        "# Decision Tree Classifier "
      ]
    },
    {
      "cell_type": "code",
      "metadata": {
        "scrolled": true,
        "id": "8wNc7mWw-Yn7",
        "outputId": "8566a2a0-58be-456a-f70e-82d4b3757f70"
      },
      "source": [
        "print(\"A Decision Tree Classifier model to predict whether a customer churn or not\")\n",
        "clf = DecisionTreeClassifier()\n",
        "clf.fit(X_train, y_train.values.ravel())\n",
        "y_true, y_pred = y_test, clf.predict(X_test)\n",
        "print(\"\\tModel\\t\\t\\tTrain Acc\\tTest Acc\")\n",
        "print(\"Decision Tree Classifier\\t\\t  \",int(clf.score(X_train,y_train)*100),\"% \\t  \", int(100*clf.score(X_test,y_test)),\"% \\t  \")\n",
        "TrueResultslat=y_test\n",
        "PredictedResultslat=clf.predict(X_test)\n",
        "data = {'y_Actual':    y_test,\n",
        "    'y_Predicted': PredictedResultslat\n",
        "    }\n",
        "df = pd.DataFrame(data, columns=['y_Actual','y_Predicted'])\n",
        "confusion_matrixf = pd.crosstab(df['y_Actual'], df['y_Predicted'], rownames=['Actual'], colnames=['Predicted'])\n",
        "\n",
        "sns.heatmap(confusion_matrixf, annot=True)\n",
        "plt.show()\n",
        "print((\"Confusion Matrix: Decision Tree Classifier \"))\n",
        "print(confusion_matrix(y_test,PredictedResultslat))\n",
        "print((\"Classification Report:Decision Tree Classifier \"))\n",
        "print(classification_report(y_test,PredictedResultslat))\n",
        "LR_accuracy = metrics.accuracy_score(y_test, PredictedResultslat)\n",
        "print((\"Decision Tree Classifier Accuracy:\" ,LR_accuracy*100))\n",
        "Accuracy_Decision=LR_accuracy*100"
      ],
      "execution_count": null,
      "outputs": [
        {
          "output_type": "stream",
          "text": [
            "A Decision Tree Classifier model to predict whether a customer churn or not\n",
            "\tModel\t\t\tTrain Acc\tTest Acc\n",
            "Decision Tree Classifier\t\t   100 % \t   89 % \t  \n"
          ],
          "name": "stdout"
        },
        {
          "output_type": "display_data",
          "data": {
            "image/png": "[encoded data removed]",
            "text/plain": [
              "<Figure size 504x360 with 2 Axes>"
            ]
          },
          "metadata": {
            "tags": [],
            "needs_background": "light"
          }
        },
        {
          "output_type": "stream",
          "text": [
            "Confusion Matrix: Decision Tree Classifier \n",
            "[[1376   87]\n",
            " [  88  149]]\n",
            "Classification Report:Decision Tree Classifier \n",
            "              precision    recall  f1-score   support\n",
            "\n",
            "           0       0.94      0.94      0.94      1463\n",
            "           1       0.63      0.63      0.63       237\n",
            "\n",
            "    accuracy                           0.90      1700\n",
            "   macro avg       0.79      0.78      0.79      1700\n",
            "weighted avg       0.90      0.90      0.90      1700\n",
            "\n",
            "('Decision Tree Classifier Accuracy:', 89.70588235294117)\n"
          ],
          "name": "stdout"
        }
      ]
    },
    {
      "cell_type": "markdown",
      "metadata": {
        "id": "yzpB5e-0-Yn7"
      },
      "source": [
        "# Random Forest Classification"
      ]
    },
    {
      "cell_type": "code",
      "metadata": {
        "id": "tbWmt8U9-Yn7",
        "outputId": "ac92dd72-0cff-4285-b44e-e9b04557a409"
      },
      "source": [
        "print(\"A Random Forest Classifier model to predict whether a customer will churn or not\")\n",
        "clf = RandomForestClassifier()\n",
        "clf.fit(X_train, y_train.values.ravel())\n",
        "y_true, y_pred = y_test, clf.predict(X_test)\n",
        "print(\"\\tModel\\t\\t\\tTrain Acc\\tTest Acc\")\n",
        "print(\"Random Forest Classifier \\t\\t  \",int(clf.score(X_train,y_train)*100),\"% \\t  \", int(100*clf.score(X_test,y_test)),\"% \\t  \")\n",
        "TrueResultslat=y_test\n",
        "PredictedResultslat=clf.predict(X_test)\n",
        "data = {'y_Actual':    y_test,\n",
        "    'y_Predicted': PredictedResultslat\n",
        "    }\n",
        "df = pd.DataFrame(data, columns=['y_Actual','y_Predicted'])\n",
        "confusion_matrixf = pd.crosstab(df['y_Actual'], df['y_Predicted'], rownames=['Actual'], colnames=['Predicted'])\n",
        "\n",
        "sns.heatmap(confusion_matrixf, annot=True)\n",
        "plt.show()\n",
        "print((\"Confusion Matrix: Random Forest Classifier \"))\n",
        "print(confusion_matrix(y_test,PredictedResultslat))\n",
        "print((\"Classification Report:Random Forest Classifier \"))\n",
        "print(classification_report(y_test,PredictedResultslat))\n",
        "LR_accuracy = metrics.accuracy_score(y_test, PredictedResultslat)\n",
        "print((\"Random Forest Classifier Accuracy:\" ,LR_accuracy*100))\n",
        "Accuracy_Random=LR_accuracy*100"
      ],
      "execution_count": null,
      "outputs": [
        {
          "output_type": "stream",
          "text": [
            "A Random Forest Classifier model to predict whether a customer churn or not\n",
            "\tModel\t\t\tTrain Acc\tTest Acc\n",
            "Random Forest Classifier \t\t   100 % \t   93 % \t  \n"
          ],
          "name": "stdout"
        },
        {
          "output_type": "display_data",
          "data": {
            "image/png": "[encoded data removed]",
            "text/plain": [
              "<Figure size 504x360 with 2 Axes>"
            ]
          },
          "metadata": {
            "tags": [],
            "needs_background": "light"
          }
        },
        {
          "output_type": "stream",
          "text": [
            "Confusion Matrix: Random Forest Classifier \n",
            "[[1441   22]\n",
            " [  97  140]]\n",
            "Classification Report:Random Forest Classifier \n",
            "              precision    recall  f1-score   support\n",
            "\n",
            "           0       0.94      0.98      0.96      1463\n",
            "           1       0.86      0.59      0.70       237\n",
            "\n",
            "    accuracy                           0.93      1700\n",
            "   macro avg       0.90      0.79      0.83      1700\n",
            "weighted avg       0.93      0.93      0.92      1700\n",
            "\n",
            "('Random Forest Classifier Accuracy:', 93.0)\n"
          ],
          "name": "stdout"
        }
      ]
    },
    {
      "cell_type": "markdown",
      "metadata": {
        "id": "SswZVoq_-Yn8"
      },
      "source": [
        "# Ridge Classification "
      ]
    },
    {
      "cell_type": "code",
      "metadata": {
        "id": "zUVirqkn-Yn8",
        "outputId": "10e72d31-dae6-466b-ffa6-7b6135d8e939"
      },
      "source": [
        "from sklearn.linear_model import RidgeClassifier\n",
        "print(\"A RidgeClassifier model to predict whether a customer will churn or not\")\n",
        "clf = RidgeClassifier()\n",
        "clf.fit(X_train, y_train.values.ravel())\n",
        "y_true, y_pred = y_test, clf.predict(X_test)\n",
        "print(\"\\tModel\\t\\t\\tTrain Acc\\tTest Acc\")\n",
        "print(\"RidgeClassifier\\t\\t  \",int(clf.score(X_train,y_train)*100),\"% \\t  \", int(100*clf.score(X_test,y_test)),\"% \\t  \")\n",
        "TrueResultslat=y_test\n",
        "PredictedResultslat=clf.predict(X_test)\n",
        "data = {'y_Actual':    y_test,\n",
        "    'y_Predicted': PredictedResultslat\n",
        "    }\n",
        "df = pd.DataFrame(data, columns=['y_Actual','y_Predicted'])\n",
        "confusion_matrixf = pd.crosstab(df['y_Actual'], df['y_Predicted'], rownames=['Actual'], colnames=['Predicted'])\n",
        "\n",
        "sns.heatmap(confusion_matrixf, annot=True)\n",
        "plt.show()\n",
        "print((\"Confusion Matrix: RidgeClassifier \"))\n",
        "print(confusion_matrix(y_test,PredictedResultslat))\n",
        "print((\"Classification Report:RidgeClassifier\"))\n",
        "print(classification_report(y_test,PredictedResultslat))\n",
        "LR_accuracy = metrics.accuracy_score(y_test, PredictedResultslat)\n",
        "print((\"RidgeClassifier Accuracy:\" ,LR_accuracy*100))\n",
        "Accuracy_RidgeClassifier=LR_accuracy*100"
      ],
      "execution_count": null,
      "outputs": [
        {
          "output_type": "stream",
          "text": [
            "A RidgeClassifier model to predict whether a customer churn or not\n",
            "\tModel\t\t\tTrain Acc\tTest Acc\n",
            "RidgeClassifier\t\t   86 % \t   86 % \t  \n"
          ],
          "name": "stdout"
        },
        {
          "output_type": "display_data",
          "data": {
            "image/png": "[encoded data removed]",
            "text/plain": [
              "<Figure size 504x360 with 2 Axes>"
            ]
          },
          "metadata": {
            "tags": [],
            "needs_background": "light"
          }
        },
        {
          "output_type": "stream",
          "text": [
            "Confusion Matrix: RidgeClassifier \n",
            "[[1453   10]\n",
            " [ 222   15]]\n",
            "Classification Report:RidgeClassifier\n",
            "              precision    recall  f1-score   support\n",
            "\n",
            "           0       0.87      0.99      0.93      1463\n",
            "           1       0.60      0.06      0.11       237\n",
            "\n",
            "    accuracy                           0.86      1700\n",
            "   macro avg       0.73      0.53      0.52      1700\n",
            "weighted avg       0.83      0.86      0.81      1700\n",
            "\n",
            "('RidgeClassifier Accuracy:', 86.3529411764706)\n"
          ],
          "name": "stdout"
        }
      ]
    },
    {
      "cell_type": "markdown",
      "metadata": {
        "id": "tWLiElvL-Yn8"
      },
      "source": [
        "# SGD Classification"
      ]
    },
    {
      "cell_type": "code",
      "metadata": {
        "id": "FdciQjFt-Yn8",
        "outputId": "087a106a-f485-4bed-cde8-e9701084c69e"
      },
      "source": [
        "from sklearn.linear_model import SGDClassifier\n",
        "print(\"A SGDClassifier model to predict whether a customer will churn or not\")\n",
        "clf = RidgeClassifier()\n",
        "clf.fit(X_train, y_train.values.ravel())\n",
        "y_true, y_pred = y_test, clf.predict(X_test)\n",
        "print(\"\\tModel\\t\\t\\tTrain Acc\\tTest Acc\")\n",
        "print(\"SGDClassifier\\t\\t  \",int(clf.score(X_train,y_train)*100),\"% \\t  \", int(100*clf.score(X_test,y_test)),\"% \\t  \")\n",
        "TrueResultslat=y_test\n",
        "PredictedResultslat=clf.predict(X_test)\n",
        "data = {'y_Actual':    y_test,\n",
        "    'y_Predicted': PredictedResultslat\n",
        "    }\n",
        "df = pd.DataFrame(data, columns=['y_Actual','y_Predicted'])\n",
        "confusion_matrixf = pd.crosstab(df['y_Actual'], df['y_Predicted'], rownames=['Actual'], colnames=['Predicted'])\n",
        "\n",
        "sns.heatmap(confusion_matrixf, annot=True)\n",
        "plt.show()\n",
        "print((\"Confusion Matrix: SGDClassifier \"))\n",
        "print(confusion_matrix(y_test,PredictedResultslat))\n",
        "print((\"Classification Report:SGDClassifier\"))\n",
        "print(classification_report(y_test,PredictedResultslat))\n",
        "LR_accuracy = metrics.accuracy_score(y_test, PredictedResultslat)\n",
        "print((\"SGDClassifier Accuracy:\" ,LR_accuracy*100))\n",
        "Accuracy_SGDClassifier=LR_accuracy*100\n"
      ],
      "execution_count": null,
      "outputs": [
        {
          "output_type": "stream",
          "text": [
            "A SGDClassifier model to predict whether a customer churn or not\n",
            "\tModel\t\t\tTrain Acc\tTest Acc\n",
            "SGDClassifier\t\t   86 % \t   86 % \t  \n"
          ],
          "name": "stdout"
        },
        {
          "output_type": "display_data",
          "data": {
            "image/png": "[encoded data removed]",
            "text/plain": [
              "<Figure size 504x360 with 2 Axes>"
            ]
          },
          "metadata": {
            "tags": [],
            "needs_background": "light"
          }
        },
        {
          "output_type": "stream",
          "text": [
            "Confusion Matrix: SGDClassifier \n",
            "[[1453   10]\n",
            " [ 222   15]]\n",
            "Classification Report:SGDClassifier\n",
            "              precision    recall  f1-score   support\n",
            "\n",
            "           0       0.87      0.99      0.93      1463\n",
            "           1       0.60      0.06      0.11       237\n",
            "\n",
            "    accuracy                           0.86      1700\n",
            "   macro avg       0.73      0.53      0.52      1700\n",
            "weighted avg       0.83      0.86      0.81      1700\n",
            "\n",
            "('SGDClassifier Accuracy:', 86.3529411764706)\n"
          ],
          "name": "stdout"
        }
      ]
    },
    {
      "cell_type": "markdown",
      "metadata": {
        "id": "CJnH3wUc-Yn8"
      },
      "source": [
        "# K Neighbour Classification "
      ]
    },
    {
      "cell_type": "code",
      "metadata": {
        "id": "hb3lreu--Yn8",
        "outputId": "65f9b9a0-740e-404c-89a4-297f7cb3b6d7"
      },
      "source": [
        "from sklearn.neighbors import KNeighborsClassifier\n",
        "print(\"A KNeighborsClassifier model to predict whether a customer will churn or not\")\n",
        "clf = RidgeClassifier()\n",
        "clf.fit(X_train, y_train.values.ravel())\n",
        "y_true, y_pred = y_test, clf.predict(X_test)\n",
        "print(\"\\tModel\\t\\t\\tTrain Acc\\tTest Acc\")\n",
        "print(\"KNeighborsClassifier\\t\\t  \",int(clf.score(X_train,y_train)*100),\"% \\t  \", int(100*clf.score(X_test,y_test)),\"% \\t  \")\n",
        "TrueResultslat=y_test\n",
        "PredictedResultslat=clf.predict(X_test)\n",
        "data = {'y_Actual':    y_test,\n",
        "    'y_Predicted': PredictedResultslat\n",
        "    }\n",
        "df = pd.DataFrame(data, columns=['y_Actual','y_Predicted'])\n",
        "confusion_matrixf = pd.crosstab(df['y_Actual'], df['y_Predicted'], rownames=['Actual'], colnames=['Predicted'])\n",
        "\n",
        "sns.heatmap(confusion_matrixf, annot=True)\n",
        "plt.show()\n",
        "print((\"Confusion Matrix: KNeighborsClassifier \"))\n",
        "print(confusion_matrix(y_test,PredictedResultslat))\n",
        "print((\"Classification Report:KNeighborsClassifier\"))\n",
        "print(classification_report(y_test,PredictedResultslat))\n",
        "LR_accuracy = metrics.accuracy_score(y_test, PredictedResultslat)\n",
        "print((\"KNeighborsClassifier Accuracy:\" ,LR_accuracy*100))\n",
        "Accuracy_KNeighborsClassifier=LR_accuracy*100\n"
      ],
      "execution_count": null,
      "outputs": [
        {
          "output_type": "stream",
          "text": [
            "A KNeighborsClassifier model to predict whether a customer churn or not\n",
            "\tModel\t\t\tTrain Acc\tTest Acc\n",
            "KNeighborsClassifier\t\t   86 % \t   86 % \t  \n"
          ],
          "name": "stdout"
        },
        {
          "output_type": "display_data",
          "data": {
            "image/png": "[encoded data removed]",
            "text/plain": [
              "<Figure size 504x360 with 2 Axes>"
            ]
          },
          "metadata": {
            "tags": [],
            "needs_background": "light"
          }
        },
        {
          "output_type": "stream",
          "text": [
            "Confusion Matrix: KNeighborsClassifier \n",
            "[[1453   10]\n",
            " [ 222   15]]\n",
            "Classification Report:KNeighborsClassifier\n",
            "              precision    recall  f1-score   support\n",
            "\n",
            "           0       0.87      0.99      0.93      1463\n",
            "           1       0.60      0.06      0.11       237\n",
            "\n",
            "    accuracy                           0.86      1700\n",
            "   macro avg       0.73      0.53      0.52      1700\n",
            "weighted avg       0.83      0.86      0.81      1700\n",
            "\n",
            "('KNeighborsClassifier Accuracy:', 86.3529411764706)\n"
          ],
          "name": "stdout"
        }
      ]
    },
    {
      "cell_type": "markdown",
      "metadata": {
        "id": "qEx48M5F-Yn8"
      },
      "source": [
        "# Combined Accuracy for each Algorithm"
      ]
    },
    {
      "cell_type": "code",
      "metadata": {
        "id": "uRxHMPhU-Yn8"
      },
      "source": [
        "AA=pd.DataFrame()\n",
        "AA['Algorithm']=[ 'SVM','Random Forest Classifier','Logistic Regression','Decision Tree Classifier','Ridge Classifier','SGD Classifier'\n",
        "                ,'KNeighborsClassifier ']"
      ],
      "execution_count": null,
      "outputs": []
    },
    {
      "cell_type": "code",
      "metadata": {
        "id": "d6iDK10c-Yn9"
      },
      "source": [
        "AA['Accuracy (%)']=[Accuracy_SVM , Accuracy_Random,Accuracy_Logistic, Accuracy_Decision,Accuracy_RidgeClassifier\n",
        "                   ,Accuracy_SGDClassifier,Accuracy_KNeighborsClassifier]"
      ],
      "execution_count": null,
      "outputs": []
    },
    {
      "cell_type": "code",
      "metadata": {
        "id": "8WzgNz1X-Yn9"
      },
      "source": [
        "AA=AA.sort_values(['Accuracy (%)'])"
      ],
      "execution_count": null,
      "outputs": []
    },
    {
      "cell_type": "code",
      "metadata": {
        "id": "4SbbZkRC-Yn9",
        "outputId": "10f4daea-6faa-4b4a-e1a2-a1eb67e1eb96"
      },
      "source": [
        "AA"
      ],
      "execution_count": null,
      "outputs": [
        {
          "output_type": "execute_result",
          "data": {
            "text/html": [
              "<div>\n",
              "<style scoped>\n",
              "    .dataframe tbody tr th:only-of-type {\n",
              "        vertical-align: middle;\n",
              "    }\n",
              "\n",
              "    .dataframe tbody tr th {\n",
              "        vertical-align: top;\n",
              "    }\n",
              "\n",
              "    .dataframe thead th {\n",
              "        text-align: right;\n",
              "    }\n",
              "</style>\n",
              "<table border=\"1\" class=\"dataframe\">\n",
              "  <thead>\n",
              "    <tr style=\"text-align: right;\">\n",
              "      <th></th>\n",
              "      <th>Algorithm</th>\n",
              "      <th>Accuracy (%)</th>\n",
              "    </tr>\n",
              "  </thead>\n",
              "  <tbody>\n",
              "    <tr>\n",
              "      <th>4</th>\n",
              "      <td>Ridge Classifier</td>\n",
              "      <td>86.352941</td>\n",
              "    </tr>\n",
              "    <tr>\n",
              "      <th>5</th>\n",
              "      <td>SGD Classifier</td>\n",
              "      <td>86.352941</td>\n",
              "    </tr>\n",
              "    <tr>\n",
              "      <th>6</th>\n",
              "      <td>KNeighborsClassifier</td>\n",
              "      <td>86.352941</td>\n",
              "    </tr>\n",
              "    <tr>\n",
              "      <th>2</th>\n",
              "      <td>Logistic Regression</td>\n",
              "      <td>86.882353</td>\n",
              "    </tr>\n",
              "    <tr>\n",
              "      <th>0</th>\n",
              "      <td>SVM</td>\n",
              "      <td>86.941176</td>\n",
              "    </tr>\n",
              "    <tr>\n",
              "      <th>3</th>\n",
              "      <td>Decision Tree Classifier</td>\n",
              "      <td>89.705882</td>\n",
              "    </tr>\n",
              "    <tr>\n",
              "      <th>1</th>\n",
              "      <td>Random Forest Classifier</td>\n",
              "      <td>93.000000</td>\n",
              "    </tr>\n",
              "  </tbody>\n",
              "</table>\n",
              "</div>"
            ],
            "text/plain": [
              "                  Algorithm  Accuracy (%)\n",
              "4          Ridge Classifier     86.352941\n",
              "5            SGD Classifier     86.352941\n",
              "6     KNeighborsClassifier      86.352941\n",
              "2       Logistic Regression     86.882353\n",
              "0                       SVM     86.941176\n",
              "3  Decision Tree Classifier     89.705882\n",
              "1  Random Forest Classifier     93.000000"
            ]
          },
          "metadata": {
            "tags": []
          },
          "execution_count": 164
        }
      ]
    },
    {
      "cell_type": "code",
      "metadata": {
        "id": "avxqUkvm-Yn9"
      },
      "source": [
        "import plotly.express as px"
      ],
      "execution_count": null,
      "outputs": []
    },
    {
      "cell_type": "code",
      "metadata": {
        "id": "NBPDq6-l-Yn9",
        "outputId": "eff30e10-e268-4a6a-f5b1-d29562c046ea"
      },
      "source": [
        "fig = px.bar(AA, x='Algorithm', y='Accuracy (%)',title=\"Accuracy of each Classifier for Churn Predictions\",color='Accuracy (%)')\n",
        "fig.show()"
      ],
      "execution_count": null,
      "outputs": [
        {
          "output_type": "display_data",
          "data": {
            "application/vnd.plotly.v1+json": {
              "config": {
                "plotlyServerURL": "https://plot.ly"
              },
              "data": [
                {
                  "alignmentgroup": "True",
                  "hovertemplate": "Algorithm=%{x}<br>Accuracy (%)=%{marker.color}<extra></extra>",
                  "legendgroup": "",
                  "marker": {
                    "color": [
                      86.3529411764706,
                      86.3529411764706,
                      86.3529411764706,
                      86.88235294117646,
                      86.94117647058823,
                      89.70588235294117,
                      93
                    ],
                    "coloraxis": "coloraxis"
                  },
                  "name": "",
                  "offsetgroup": "",
                  "orientation": "v",
                  "showlegend": false,
                  "textposition": "auto",
                  "type": "bar",
                  "x": [
                    "Ridge Classifier",
                    "SGD Classifier",
                    "KNeighborsClassifier ",
                    "Logistic Regression",
                    "SVM",
                    "Decision Tree Classifier",
                    "Random Forest Classifier"
                  ],
                  "xaxis": "x",
                  "y": [
                    86.3529411764706,
                    86.3529411764706,
                    86.3529411764706,
                    86.88235294117646,
                    86.94117647058823,
                    89.70588235294117,
                    93
                  ],
                  "yaxis": "y"
                }
              ],
              "layout": {
                "barmode": "relative",
                "coloraxis": {
                  "colorbar": {
                    "title": {
                      "text": "Accuracy (%)"
                    }
                  },
                  "colorscale": [
                    [
                      0,
                      "#0d0887"
                    ],
                    [
                      0.1111111111111111,
                      "#46039f"
                    ],
                    [
                      0.2222222222222222,
                      "#7201a8"
                    ],
                    [
                      0.3333333333333333,
                      "#9c179e"
                    ],
                    [
                      0.4444444444444444,
                      "#bd3786"
                    ],
                    [
                      0.5555555555555556,
                      "#d8576b"
                    ],
                    [
                      0.6666666666666666,
                      "#ed7953"
                    ],
                    [
                      0.7777777777777778,
                      "#fb9f3a"
                    ],
                    [
                      0.8888888888888888,
                      "#fdca26"
                    ],
                    [
                      1,
                      "#f0f921"
                    ]
                  ]
                },
                "legend": {
                  "tracegroupgap": 0
                },
                "template": {
                  "data": {
                    "bar": [
                      {
                        "error_x": {
                          "color": "#2a3f5f"
                        },
                        "error_y": {
                          "color": "#2a3f5f"
                        },
                        "marker": {
                          "line": {
                            "color": "#E5ECF6",
                            "width": 0.5
                          }
                        },
                        "type": "bar"
                      }
                    ],
                    "barpolar": [
                      {
                        "marker": {
                          "line": {
                            "color": "#E5ECF6",
                            "width": 0.5
                          }
                        },
                        "type": "barpolar"
                      }
                    ],
                    "carpet": [
                      {
                        "aaxis": {
                          "endlinecolor": "#2a3f5f",
                          "gridcolor": "white",
                          "linecolor": "white",
                          "minorgridcolor": "white",
                          "startlinecolor": "#2a3f5f"
                        },
                        "baxis": {
                          "endlinecolor": "#2a3f5f",
                          "gridcolor": "white",
                          "linecolor": "white",
                          "minorgridcolor": "white",
                          "startlinecolor": "#2a3f5f"
                        },
                        "type": "carpet"
                      }
                    ],
                    "choropleth": [
                      {
                        "colorbar": {
                          "outlinewidth": 0,
                          "ticks": ""
                        },
                        "type": "choropleth"
                      }
                    ],
                    "contour": [
                      {
                        "colorbar": {
                          "outlinewidth": 0,
                          "ticks": ""
                        },
                        "colorscale": [
                          [
                            0,
                            "#0d0887"
                          ],
                          [
                            0.1111111111111111,
                            "#46039f"
                          ],
                          [
                            0.2222222222222222,
                            "#7201a8"
                          ],
                          [
                            0.3333333333333333,
                            "#9c179e"
                          ],
                          [
                            0.4444444444444444,
                            "#bd3786"
                          ],
                          [
                            0.5555555555555556,
                            "#d8576b"
                          ],
                          [
                            0.6666666666666666,
                            "#ed7953"
                          ],
                          [
                            0.7777777777777778,
                            "#fb9f3a"
                          ],
                          [
                            0.8888888888888888,
                            "#fdca26"
                          ],
                          [
                            1,
                            "#f0f921"
                          ]
                        ],
                        "type": "contour"
                      }
                    ],
                    "contourcarpet": [
                      {
                        "colorbar": {
                          "outlinewidth": 0,
                          "ticks": ""
                        },
                        "type": "contourcarpet"
                      }
                    ],
                    "heatmap": [
                      {
                        "colorbar": {
                          "outlinewidth": 0,
                          "ticks": ""
                        },
                        "colorscale": [
                          [
                            0,
                            "#0d0887"
                          ],
                          [
                            0.1111111111111111,
                            "#46039f"
                          ],
                          [
                            0.2222222222222222,
                            "#7201a8"
                          ],
                          [
                            0.3333333333333333,
                            "#9c179e"
                          ],
                          [
                            0.4444444444444444,
                            "#bd3786"
                          ],
                          [
                            0.5555555555555556,
                            "#d8576b"
                          ],
                          [
                            0.6666666666666666,
                            "#ed7953"
                          ],
                          [
                            0.7777777777777778,
                            "#fb9f3a"
                          ],
                          [
                            0.8888888888888888,
                            "#fdca26"
                          ],
                          [
                            1,
                            "#f0f921"
                          ]
                        ],
                        "type": "heatmap"
                      }
                    ],
                    "heatmapgl": [
                      {
                        "colorbar": {
                          "outlinewidth": 0,
                          "ticks": ""
                        },
                        "colorscale": [
                          [
                            0,
                            "#0d0887"
                          ],
                          [
                            0.1111111111111111,
                            "#46039f"
                          ],
                          [
                            0.2222222222222222,
                            "#7201a8"
                          ],
                          [
                            0.3333333333333333,
                            "#9c179e"
                          ],
                          [
                            0.4444444444444444,
                            "#bd3786"
                          ],
                          [
                            0.5555555555555556,
                            "#d8576b"
                          ],
                          [
                            0.6666666666666666,
                            "#ed7953"
                          ],
                          [
                            0.7777777777777778,
                            "#fb9f3a"
                          ],
                          [
                            0.8888888888888888,
                            "#fdca26"
                          ],
                          [
                            1,
                            "#f0f921"
                          ]
                        ],
                        "type": "heatmapgl"
                      }
                    ],
                    "histogram": [
                      {
                        "marker": {
                          "colorbar": {
                            "outlinewidth": 0,
                            "ticks": ""
                          }
                        },
                        "type": "histogram"
                      }
                    ],
                    "histogram2d": [
                      {
                        "colorbar": {
                          "outlinewidth": 0,
                          "ticks": ""
                        },
                        "colorscale": [
                          [
                            0,
                            "#0d0887"
                          ],
                          [
                            0.1111111111111111,
                            "#46039f"
                          ],
                          [
                            0.2222222222222222,
                            "#7201a8"
                          ],
                          [
                            0.3333333333333333,
                            "#9c179e"
                          ],
                          [
                            0.4444444444444444,
                            "#bd3786"
                          ],
                          [
                            0.5555555555555556,
                            "#d8576b"
                          ],
                          [
                            0.6666666666666666,
                            "#ed7953"
                          ],
                          [
                            0.7777777777777778,
                            "#fb9f3a"
                          ],
                          [
                            0.8888888888888888,
                            "#fdca26"
                          ],
                          [
                            1,
                            "#f0f921"
                          ]
                        ],
                        "type": "histogram2d"
                      }
                    ],
                    "histogram2dcontour": [
                      {
                        "colorbar": {
                          "outlinewidth": 0,
                          "ticks": ""
                        },
                        "colorscale": [
                          [
                            0,
                            "#0d0887"
                          ],
                          [
                            0.1111111111111111,
                            "#46039f"
                          ],
                          [
                            0.2222222222222222,
                            "#7201a8"
                          ],
                          [
                            0.3333333333333333,
                            "#9c179e"
                          ],
                          [
                            0.4444444444444444,
                            "#bd3786"
                          ],
                          [
                            0.5555555555555556,
                            "#d8576b"
                          ],
                          [
                            0.6666666666666666,
                            "#ed7953"
                          ],
                          [
                            0.7777777777777778,
                            "#fb9f3a"
                          ],
                          [
                            0.8888888888888888,
                            "#fdca26"
                          ],
                          [
                            1,
                            "#f0f921"
                          ]
                        ],
                        "type": "histogram2dcontour"
                      }
                    ],
                    "mesh3d": [
                      {
                        "colorbar": {
                          "outlinewidth": 0,
                          "ticks": ""
                        },
                        "type": "mesh3d"
                      }
                    ],
                    "parcoords": [
                      {
                        "line": {
                          "colorbar": {
                            "outlinewidth": 0,
                            "ticks": ""
                          }
                        },
                        "type": "parcoords"
                      }
                    ],
                    "pie": [
                      {
                        "automargin": true,
                        "type": "pie"
                      }
                    ],
                    "scatter": [
                      {
                        "marker": {
                          "colorbar": {
                            "outlinewidth": 0,
                            "ticks": ""
                          }
                        },
                        "type": "scatter"
                      }
                    ],
                    "scatter3d": [
                      {
                        "line": {
                          "colorbar": {
                            "outlinewidth": 0,
                            "ticks": ""
                          }
                        },
                        "marker": {
                          "colorbar": {
                            "outlinewidth": 0,
                            "ticks": ""
                          }
                        },
                        "type": "scatter3d"
                      }
                    ],
                    "scattercarpet": [
                      {
                        "marker": {
                          "colorbar": {
                            "outlinewidth": 0,
                            "ticks": ""
                          }
                        },
                        "type": "scattercarpet"
                      }
                    ],
                    "scattergeo": [
                      {
                        "marker": {
                          "colorbar": {
                            "outlinewidth": 0,
                            "ticks": ""
                          }
                        },
                        "type": "scattergeo"
                      }
                    ],
                    "scattergl": [
                      {
                        "marker": {
                          "colorbar": {
                            "outlinewidth": 0,
                            "ticks": ""
                          }
                        },
                        "type": "scattergl"
                      }
                    ],
                    "scattermapbox": [
                      {
                        "marker": {
                          "colorbar": {
                            "outlinewidth": 0,
                            "ticks": ""
                          }
                        },
                        "type": "scattermapbox"
                      }
                    ],
                    "scatterpolar": [
                      {
                        "marker": {
                          "colorbar": {
                            "outlinewidth": 0,
                            "ticks": ""
                          }
                        },
                        "type": "scatterpolar"
                      }
                    ],
                    "scatterpolargl": [
                      {
                        "marker": {
                          "colorbar": {
                            "outlinewidth": 0,
                            "ticks": ""
                          }
                        },
                        "type": "scatterpolargl"
                      }
                    ],
                    "scatterternary": [
                      {
                        "marker": {
                          "colorbar": {
                            "outlinewidth": 0,
                            "ticks": ""
                          }
                        },
                        "type": "scatterternary"
                      }
                    ],
                    "surface": [
                      {
                        "colorbar": {
                          "outlinewidth": 0,
                          "ticks": ""
                        },
                        "colorscale": [
                          [
                            0,
                            "#0d0887"
                          ],
                          [
                            0.1111111111111111,
                            "#46039f"
                          ],
                          [
                            0.2222222222222222,
                            "#7201a8"
                          ],
                          [
                            0.3333333333333333,
                            "#9c179e"
                          ],
                          [
                            0.4444444444444444,
                            "#bd3786"
                          ],
                          [
                            0.5555555555555556,
                            "#d8576b"
                          ],
                          [
                            0.6666666666666666,
                            "#ed7953"
                          ],
                          [
                            0.7777777777777778,
                            "#fb9f3a"
                          ],
                          [
                            0.8888888888888888,
                            "#fdca26"
                          ],
                          [
                            1,
                            "#f0f921"
                          ]
                        ],
                        "type": "surface"
                      }
                    ],
                    "table": [
                      {
                        "cells": {
                          "fill": {
                            "color": "#EBF0F8"
                          },
                          "line": {
                            "color": "white"
                          }
                        },
                        "header": {
                          "fill": {
                            "color": "#C8D4E3"
                          },
                          "line": {
                            "color": "white"
                          }
                        },
                        "type": "table"
                      }
                    ]
                  },
                  "layout": {
                    "annotationdefaults": {
                      "arrowcolor": "#2a3f5f",
                      "arrowhead": 0,
                      "arrowwidth": 1
                    },
                    "coloraxis": {
                      "colorbar": {
                        "outlinewidth": 0,
                        "ticks": ""
                      }
                    },
                    "colorscale": {
                      "diverging": [
                        [
                          0,
                          "#8e0152"
                        ],
                        [
                          0.1,
                          "#c51b7d"
                        ],
                        [
                          0.2,
                          "#de77ae"
                        ],
                        [
                          0.3,
                          "#f1b6da"
                        ],
                        [
                          0.4,
                          "#fde0ef"
                        ],
                        [
                          0.5,
                          "#f7f7f7"
                        ],
                        [
                          0.6,
                          "#e6f5d0"
                        ],
                        [
                          0.7,
                          "#b8e186"
                        ],
                        [
                          0.8,
                          "#7fbc41"
                        ],
                        [
                          0.9,
                          "#4d9221"
                        ],
                        [
                          1,
                          "#276419"
                        ]
                      ],
                      "sequential": [
                        [
                          0,
                          "#0d0887"
                        ],
                        [
                          0.1111111111111111,
                          "#46039f"
                        ],
                        [
                          0.2222222222222222,
                          "#7201a8"
                        ],
                        [
                          0.3333333333333333,
                          "#9c179e"
                        ],
                        [
                          0.4444444444444444,
                          "#bd3786"
                        ],
                        [
                          0.5555555555555556,
                          "#d8576b"
                        ],
                        [
                          0.6666666666666666,
                          "#ed7953"
                        ],
                        [
                          0.7777777777777778,
                          "#fb9f3a"
                        ],
                        [
                          0.8888888888888888,
                          "#fdca26"
                        ],
                        [
                          1,
                          "#f0f921"
                        ]
                      ],
                      "sequentialminus": [
                        [
                          0,
                          "#0d0887"
                        ],
                        [
                          0.1111111111111111,
                          "#46039f"
                        ],
                        [
                          0.2222222222222222,
                          "#7201a8"
                        ],
                        [
                          0.3333333333333333,
                          "#9c179e"
                        ],
                        [
                          0.4444444444444444,
                          "#bd3786"
                        ],
                        [
                          0.5555555555555556,
                          "#d8576b"
                        ],
                        [
                          0.6666666666666666,
                          "#ed7953"
                        ],
                        [
                          0.7777777777777778,
                          "#fb9f3a"
                        ],
                        [
                          0.8888888888888888,
                          "#fdca26"
                        ],
                        [
                          1,
                          "#f0f921"
                        ]
                      ]
                    },
                    "colorway": [
                      "#636efa",
                      "#EF553B",
                      "#00cc96",
                      "#ab63fa",
                      "#FFA15A",
                      "#19d3f3",
                      "#FF6692",
                      "#B6E880",
                      "#FF97FF",
                      "#FECB52"
                    ],
                    "font": {
                      "color": "#2a3f5f"
                    },
                    "geo": {
                      "bgcolor": "white",
                      "lakecolor": "white",
                      "landcolor": "#E5ECF6",
                      "showlakes": true,
                      "showland": true,
                      "subunitcolor": "white"
                    },
                    "hoverlabel": {
                      "align": "left"
                    },
                    "hovermode": "closest",
                    "mapbox": {
                      "style": "light"
                    },
                    "paper_bgcolor": "white",
                    "plot_bgcolor": "#E5ECF6",
                    "polar": {
                      "angularaxis": {
                        "gridcolor": "white",
                        "linecolor": "white",
                        "ticks": ""
                      },
                      "bgcolor": "#E5ECF6",
                      "radialaxis": {
                        "gridcolor": "white",
                        "linecolor": "white",
                        "ticks": ""
                      }
                    },
                    "scene": {
                      "xaxis": {
                        "backgroundcolor": "#E5ECF6",
                        "gridcolor": "white",
                        "gridwidth": 2,
                        "linecolor": "white",
                        "showbackground": true,
                        "ticks": "",
                        "zerolinecolor": "white"
                      },
                      "yaxis": {
                        "backgroundcolor": "#E5ECF6",
                        "gridcolor": "white",
                        "gridwidth": 2,
                        "linecolor": "white",
                        "showbackground": true,
                        "ticks": "",
                        "zerolinecolor": "white"
                      },
                      "zaxis": {
                        "backgroundcolor": "#E5ECF6",
                        "gridcolor": "white",
                        "gridwidth": 2,
                        "linecolor": "white",
                        "showbackground": true,
                        "ticks": "",
                        "zerolinecolor": "white"
                      }
                    },
                    "shapedefaults": {
                      "line": {
                        "color": "#2a3f5f"
                      }
                    },
                    "ternary": {
                      "aaxis": {
                        "gridcolor": "white",
                        "linecolor": "white",
                        "ticks": ""
                      },
                      "baxis": {
                        "gridcolor": "white",
                        "linecolor": "white",
                        "ticks": ""
                      },
                      "bgcolor": "#E5ECF6",
                      "caxis": {
                        "gridcolor": "white",
                        "linecolor": "white",
                        "ticks": ""
                      }
                    },
                    "title": {
                      "x": 0.05
                    },
                    "xaxis": {
                      "automargin": true,
                      "gridcolor": "white",
                      "linecolor": "white",
                      "ticks": "",
                      "title": {
                        "standoff": 15
                      },
                      "zerolinecolor": "white",
                      "zerolinewidth": 2
                    },
                    "yaxis": {
                      "automargin": true,
                      "gridcolor": "white",
                      "linecolor": "white",
                      "ticks": "",
                      "title": {
                        "standoff": 15
                      },
                      "zerolinecolor": "white",
                      "zerolinewidth": 2
                    }
                  }
                },
                "title": {
                  "text": "Accuracy of each Classifier for Churn Predictions"
                },
                "xaxis": {
                  "anchor": "y",
                  "domain": [
                    0,
                    1
                  ],
                  "title": {
                    "text": "Algorithm"
                  }
                },
                "yaxis": {
                  "anchor": "x",
                  "domain": [
                    0,
                    1
                  ],
                  "title": {
                    "text": "Accuracy (%)"
                  }
                }
              }
            },
            "text/html": [
              "<div>\n",
              "        \n",
              "        \n",
              "            <div id=\"f6d8160d-8775-4bb8-a606-ce95cf020341\" class=\"plotly-graph-div\" style=\"height:525px; width:100%;\"></div>\n",
              "            <script type=\"text/javascript\">\n",
              "                require([\"plotly\"], function(Plotly) {\n",
              "                    window.PLOTLYENV=window.PLOTLYENV || {};\n",
              "                    \n",
              "                if (document.getElementById(\"f6d8160d-8775-4bb8-a606-ce95cf020341\")) {\n",
              "                    Plotly.newPlot(\n",
              "                        'f6d8160d-8775-4bb8-a606-ce95cf020341',\n",
              "                        [{\"alignmentgroup\": \"True\", \"hovertemplate\": \"Algorithm=%{x}<br>Accuracy (%)=%{marker.color}<extra></extra>\", \"legendgroup\": \"\", \"marker\": {\"color\": [86.3529411764706, 86.3529411764706, 86.3529411764706, 86.88235294117646, 86.94117647058823, 89.70588235294117, 93.0], \"coloraxis\": \"coloraxis\"}, \"name\": \"\", \"offsetgroup\": \"\", \"orientation\": \"v\", \"showlegend\": false, \"textposition\": \"auto\", \"type\": \"bar\", \"x\": [\"Ridge Classifier\", \"SGD Classifier\", \"KNeighborsClassifier \", \"Logistic Regression\", \"SVM\", \"Decision Tree Classifier\", \"Random Forest Classifier\"], \"xaxis\": \"x\", \"y\": [86.3529411764706, 86.3529411764706, 86.3529411764706, 86.88235294117646, 86.94117647058823, 89.70588235294117, 93.0], \"yaxis\": \"y\"}],\n",
              "                        {\"barmode\": \"relative\", \"coloraxis\": {\"colorbar\": {\"title\": {\"text\": \"Accuracy (%)\"}}, \"colorscale\": [[0.0, \"#0d0887\"], [0.1111111111111111, \"#46039f\"], [0.2222222222222222, \"#7201a8\"], [0.3333333333333333, \"#9c179e\"], [0.4444444444444444, \"#bd3786\"], [0.5555555555555556, \"#d8576b\"], [0.6666666666666666, \"#ed7953\"], [0.7777777777777778, \"#fb9f3a\"], [0.8888888888888888, \"#fdca26\"], [1.0, \"#f0f921\"]]}, \"legend\": {\"tracegroupgap\": 0}, \"template\": {\"data\": {\"bar\": [{\"error_x\": {\"color\": \"#2a3f5f\"}, \"error_y\": {\"color\": \"#2a3f5f\"}, \"marker\": {\"line\": {\"color\": \"#E5ECF6\", \"width\": 0.5}}, \"type\": \"bar\"}], \"barpolar\": [{\"marker\": {\"line\": {\"color\": \"#E5ECF6\", \"width\": 0.5}}, \"type\": \"barpolar\"}], \"carpet\": [{\"aaxis\": {\"endlinecolor\": \"#2a3f5f\", \"gridcolor\": \"white\", \"linecolor\": \"white\", \"minorgridcolor\": \"white\", \"startlinecolor\": \"#2a3f5f\"}, \"baxis\": {\"endlinecolor\": \"#2a3f5f\", \"gridcolor\": \"white\", \"linecolor\": \"white\", \"minorgridcolor\": \"white\", \"startlinecolor\": \"#2a3f5f\"}, \"type\": \"carpet\"}], \"choropleth\": [{\"colorbar\": {\"outlinewidth\": 0, \"ticks\": \"\"}, \"type\": \"choropleth\"}], \"contour\": [{\"colorbar\": {\"outlinewidth\": 0, \"ticks\": \"\"}, \"colorscale\": [[0.0, \"#0d0887\"], [0.1111111111111111, \"#46039f\"], [0.2222222222222222, \"#7201a8\"], [0.3333333333333333, \"#9c179e\"], [0.4444444444444444, \"#bd3786\"], [0.5555555555555556, \"#d8576b\"], [0.6666666666666666, \"#ed7953\"], [0.7777777777777778, \"#fb9f3a\"], [0.8888888888888888, \"#fdca26\"], [1.0, \"#f0f921\"]], \"type\": \"contour\"}], \"contourcarpet\": [{\"colorbar\": {\"outlinewidth\": 0, \"ticks\": \"\"}, \"type\": \"contourcarpet\"}], \"heatmap\": [{\"colorbar\": {\"outlinewidth\": 0, \"ticks\": \"\"}, \"colorscale\": [[0.0, \"#0d0887\"], [0.1111111111111111, \"#46039f\"], [0.2222222222222222, \"#7201a8\"], [0.3333333333333333, \"#9c179e\"], [0.4444444444444444, \"#bd3786\"], [0.5555555555555556, \"#d8576b\"], [0.6666666666666666, \"#ed7953\"], [0.7777777777777778, \"#fb9f3a\"], [0.8888888888888888, \"#fdca26\"], [1.0, \"#f0f921\"]], \"type\": \"heatmap\"}], \"heatmapgl\": [{\"colorbar\": {\"outlinewidth\": 0, \"ticks\": \"\"}, \"colorscale\": [[0.0, \"#0d0887\"], [0.1111111111111111, \"#46039f\"], [0.2222222222222222, \"#7201a8\"], [0.3333333333333333, \"#9c179e\"], [0.4444444444444444, \"#bd3786\"], [0.5555555555555556, \"#d8576b\"], [0.6666666666666666, \"#ed7953\"], [0.7777777777777778, \"#fb9f3a\"], [0.8888888888888888, \"#fdca26\"], [1.0, \"#f0f921\"]], \"type\": \"heatmapgl\"}], \"histogram\": [{\"marker\": {\"colorbar\": {\"outlinewidth\": 0, \"ticks\": \"\"}}, \"type\": \"histogram\"}], \"histogram2d\": [{\"colorbar\": {\"outlinewidth\": 0, \"ticks\": \"\"}, \"colorscale\": [[0.0, \"#0d0887\"], [0.1111111111111111, \"#46039f\"], [0.2222222222222222, \"#7201a8\"], [0.3333333333333333, \"#9c179e\"], [0.4444444444444444, \"#bd3786\"], [0.5555555555555556, \"#d8576b\"], [0.6666666666666666, \"#ed7953\"], [0.7777777777777778, \"#fb9f3a\"], [0.8888888888888888, \"#fdca26\"], [1.0, \"#f0f921\"]], \"type\": \"histogram2d\"}], \"histogram2dcontour\": [{\"colorbar\": {\"outlinewidth\": 0, \"ticks\": \"\"}, \"colorscale\": [[0.0, \"#0d0887\"], [0.1111111111111111, \"#46039f\"], [0.2222222222222222, \"#7201a8\"], [0.3333333333333333, \"#9c179e\"], [0.4444444444444444, \"#bd3786\"], [0.5555555555555556, \"#d8576b\"], [0.6666666666666666, \"#ed7953\"], [0.7777777777777778, \"#fb9f3a\"], [0.8888888888888888, \"#fdca26\"], [1.0, \"#f0f921\"]], \"type\": \"histogram2dcontour\"}], \"mesh3d\": [{\"colorbar\": {\"outlinewidth\": 0, \"ticks\": \"\"}, \"type\": \"mesh3d\"}], \"parcoords\": [{\"line\": {\"colorbar\": {\"outlinewidth\": 0, \"ticks\": \"\"}}, \"type\": \"parcoords\"}], \"pie\": [{\"automargin\": true, \"type\": \"pie\"}], \"scatter\": [{\"marker\": {\"colorbar\": {\"outlinewidth\": 0, \"ticks\": \"\"}}, \"type\": \"scatter\"}], \"scatter3d\": [{\"line\": {\"colorbar\": {\"outlinewidth\": 0, \"ticks\": \"\"}}, \"marker\": {\"colorbar\": {\"outlinewidth\": 0, \"ticks\": \"\"}}, \"type\": \"scatter3d\"}], \"scattercarpet\": [{\"marker\": {\"colorbar\": {\"outlinewidth\": 0, \"ticks\": \"\"}}, \"type\": \"scattercarpet\"}], \"scattergeo\": [{\"marker\": {\"colorbar\": {\"outlinewidth\": 0, \"ticks\": \"\"}}, \"type\": \"scattergeo\"}], \"scattergl\": [{\"marker\": {\"colorbar\": {\"outlinewidth\": 0, \"ticks\": \"\"}}, \"type\": \"scattergl\"}], \"scattermapbox\": [{\"marker\": {\"colorbar\": {\"outlinewidth\": 0, \"ticks\": \"\"}}, \"type\": \"scattermapbox\"}], \"scatterpolar\": [{\"marker\": {\"colorbar\": {\"outlinewidth\": 0, \"ticks\": \"\"}}, \"type\": \"scatterpolar\"}], \"scatterpolargl\": [{\"marker\": {\"colorbar\": {\"outlinewidth\": 0, \"ticks\": \"\"}}, \"type\": \"scatterpolargl\"}], \"scatterternary\": [{\"marker\": {\"colorbar\": {\"outlinewidth\": 0, \"ticks\": \"\"}}, \"type\": \"scatterternary\"}], \"surface\": [{\"colorbar\": {\"outlinewidth\": 0, \"ticks\": \"\"}, \"colorscale\": [[0.0, \"#0d0887\"], [0.1111111111111111, \"#46039f\"], [0.2222222222222222, \"#7201a8\"], [0.3333333333333333, \"#9c179e\"], [0.4444444444444444, \"#bd3786\"], [0.5555555555555556, \"#d8576b\"], [0.6666666666666666, \"#ed7953\"], [0.7777777777777778, \"#fb9f3a\"], [0.8888888888888888, \"#fdca26\"], [1.0, \"#f0f921\"]], \"type\": \"surface\"}], \"table\": [{\"cells\": {\"fill\": {\"color\": \"#EBF0F8\"}, \"line\": {\"color\": \"white\"}}, \"header\": {\"fill\": {\"color\": \"#C8D4E3\"}, \"line\": {\"color\": \"white\"}}, \"type\": \"table\"}]}, \"layout\": {\"annotationdefaults\": {\"arrowcolor\": \"#2a3f5f\", \"arrowhead\": 0, \"arrowwidth\": 1}, \"coloraxis\": {\"colorbar\": {\"outlinewidth\": 0, \"ticks\": \"\"}}, \"colorscale\": {\"diverging\": [[0, \"#8e0152\"], [0.1, \"#c51b7d\"], [0.2, \"#de77ae\"], [0.3, \"#f1b6da\"], [0.4, \"#fde0ef\"], [0.5, \"#f7f7f7\"], [0.6, \"#e6f5d0\"], [0.7, \"#b8e186\"], [0.8, \"#7fbc41\"], [0.9, \"#4d9221\"], [1, \"#276419\"]], \"sequential\": [[0.0, \"#0d0887\"], [0.1111111111111111, \"#46039f\"], [0.2222222222222222, \"#7201a8\"], [0.3333333333333333, \"#9c179e\"], [0.4444444444444444, \"#bd3786\"], [0.5555555555555556, \"#d8576b\"], [0.6666666666666666, \"#ed7953\"], [0.7777777777777778, \"#fb9f3a\"], [0.8888888888888888, \"#fdca26\"], [1.0, \"#f0f921\"]], \"sequentialminus\": [[0.0, \"#0d0887\"], [0.1111111111111111, \"#46039f\"], [0.2222222222222222, \"#7201a8\"], [0.3333333333333333, \"#9c179e\"], [0.4444444444444444, \"#bd3786\"], [0.5555555555555556, \"#d8576b\"], [0.6666666666666666, \"#ed7953\"], [0.7777777777777778, \"#fb9f3a\"], [0.8888888888888888, \"#fdca26\"], [1.0, \"#f0f921\"]]}, \"colorway\": [\"#636efa\", \"#EF553B\", \"#00cc96\", \"#ab63fa\", \"#FFA15A\", \"#19d3f3\", \"#FF6692\", \"#B6E880\", \"#FF97FF\", \"#FECB52\"], \"font\": {\"color\": \"#2a3f5f\"}, \"geo\": {\"bgcolor\": \"white\", \"lakecolor\": \"white\", \"landcolor\": \"#E5ECF6\", \"showlakes\": true, \"showland\": true, \"subunitcolor\": \"white\"}, \"hoverlabel\": {\"align\": \"left\"}, \"hovermode\": \"closest\", \"mapbox\": {\"style\": \"light\"}, \"paper_bgcolor\": \"white\", \"plot_bgcolor\": \"#E5ECF6\", \"polar\": {\"angularaxis\": {\"gridcolor\": \"white\", \"linecolor\": \"white\", \"ticks\": \"\"}, \"bgcolor\": \"#E5ECF6\", \"radialaxis\": {\"gridcolor\": \"white\", \"linecolor\": \"white\", \"ticks\": \"\"}}, \"scene\": {\"xaxis\": {\"backgroundcolor\": \"#E5ECF6\", \"gridcolor\": \"white\", \"gridwidth\": 2, \"linecolor\": \"white\", \"showbackground\": true, \"ticks\": \"\", \"zerolinecolor\": \"white\"}, \"yaxis\": {\"backgroundcolor\": \"#E5ECF6\", \"gridcolor\": \"white\", \"gridwidth\": 2, \"linecolor\": \"white\", \"showbackground\": true, \"ticks\": \"\", \"zerolinecolor\": \"white\"}, \"zaxis\": {\"backgroundcolor\": \"#E5ECF6\", \"gridcolor\": \"white\", \"gridwidth\": 2, \"linecolor\": \"white\", \"showbackground\": true, \"ticks\": \"\", \"zerolinecolor\": \"white\"}}, \"shapedefaults\": {\"line\": {\"color\": \"#2a3f5f\"}}, \"ternary\": {\"aaxis\": {\"gridcolor\": \"white\", \"linecolor\": \"white\", \"ticks\": \"\"}, \"baxis\": {\"gridcolor\": \"white\", \"linecolor\": \"white\", \"ticks\": \"\"}, \"bgcolor\": \"#E5ECF6\", \"caxis\": {\"gridcolor\": \"white\", \"linecolor\": \"white\", \"ticks\": \"\"}}, \"title\": {\"x\": 0.05}, \"xaxis\": {\"automargin\": true, \"gridcolor\": \"white\", \"linecolor\": \"white\", \"ticks\": \"\", \"title\": {\"standoff\": 15}, \"zerolinecolor\": \"white\", \"zerolinewidth\": 2}, \"yaxis\": {\"automargin\": true, \"gridcolor\": \"white\", \"linecolor\": \"white\", \"ticks\": \"\", \"title\": {\"standoff\": 15}, \"zerolinecolor\": \"white\", \"zerolinewidth\": 2}}}, \"title\": {\"text\": \"Accuracy of each Classifier for Churn Predictions\"}, \"xaxis\": {\"anchor\": \"y\", \"domain\": [0.0, 1.0], \"title\": {\"text\": \"Algorithm\"}}, \"yaxis\": {\"anchor\": \"x\", \"domain\": [0.0, 1.0], \"title\": {\"text\": \"Accuracy (%)\"}}},\n",
              "                        {\"responsive\": true}\n",
              "                    ).then(function(){\n",
              "                            \n",
              "var gd = document.getElementById('f6d8160d-8775-4bb8-a606-ce95cf020341');\n",
              "var x = new MutationObserver(function (mutations, observer) {{\n",
              "        var display = window.getComputedStyle(gd).display;\n",
              "        if (!display || display === 'none') {{\n",
              "            console.log([gd, 'removed!']);\n",
              "            Plotly.purge(gd);\n",
              "            observer.disconnect();\n",
              "        }}\n",
              "}});\n",
              "\n",
              "// Listen for the removal of the full notebook cells\n",
              "var notebookContainer = gd.closest('#notebook-container');\n",
              "if (notebookContainer) {{\n",
              "    x.observe(notebookContainer, {childList: true});\n",
              "}}\n",
              "\n",
              "// Listen for the clearing of the current output cell\n",
              "var outputEl = gd.closest('.output');\n",
              "if (outputEl) {{\n",
              "    x.observe(outputEl, {childList: true});\n",
              "}}\n",
              "\n",
              "                        })\n",
              "                };\n",
              "                });\n",
              "            </script>\n",
              "        </div>"
            ]
          },
          "metadata": {
            "tags": []
          }
        }
      ]
    },
    {
      "cell_type": "markdown",
      "metadata": {
        "id": "iHUdHy31-Yn-"
      },
      "source": [
        "# Random Forest Classification is providing the best accuracy with a score 93%"
      ]
    },
    {
      "cell_type": "markdown",
      "metadata": {
        "id": "b_hYfJ9O-Yn-"
      },
      "source": [
        "# Code for Parameter Tuning SVM Classifier "
      ]
    },
    {
      "cell_type": "code",
      "metadata": {
        "id": "wcLQMavL-Yn-"
      },
      "source": [
        "print(\"Improving Model using Grid Search\")\n",
        "print()\n",
        "tuned_parameters = [{'kernel': ['rbf'], 'gamma': [1e-3, 1e-4],\n",
        "                     'C': [1, 10, 100, 1000]},\n",
        "                    {'kernel': ['linear'], 'C': [1, 10, 100, 1000]}]\n",
        "\n",
        "scores = ['precision', 'recall']\n",
        "\n",
        "for score in scores:\n",
        "\n",
        "    print()\n",
        "    print(\"Working with\",tuned_parameters)\n",
        "    clf = GridSearchCV(SVC(), tuned_parameters, scoring='%s_macro' % score)\n",
        "    clf.fit(X_train, y_train.values.ravel())\n",
        "\n",
        "    print(\"Best parameters set found on development set:\")\n",
        "    print()\n",
        "    print(clf.best_params_)\n",
        "    print()\n",
        "    print(\"Grid scores on development set:\")\n",
        "    print()\n",
        "    means = clf.cv_results_['mean_test_score']\n",
        "    stds = clf.cv_results_['std_test_score']\n",
        "    for mean, std, params in zip(means, stds, clf.cv_results_['params']):\n",
        "        print(\"%0.3f (+/-%0.03f) for %r\"\n",
        "              % (mean, std * 2, params))\n",
        "    print()\n",
        "\n",
        "    print(\"Detailed classification report:\")\n",
        "    print()\n",
        "    print(\"The model is trained on the full development set.\")\n",
        "    print(\"The scores are computed on the full evaluation set.\")\n",
        "    print()\n",
        "    y_true, y_pred = y_test, clf.predict(X_test)\n",
        "    print(classification_report(y_true, y_pred))\n",
        "    print()\n"
      ],
      "execution_count": null,
      "outputs": []
    }
  ]
}